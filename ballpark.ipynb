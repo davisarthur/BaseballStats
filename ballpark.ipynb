{
 "cells": [
  {
   "cell_type": "code",
   "execution_count": 1,
   "metadata": {},
   "outputs": [],
   "source": [
    "import pybaseball\n",
    "import numpy as np\n",
    "import matplotlib.pyplot as plt\n",
    "import pandas as pd\n",
    "import utils\n",
    "from sklearn import linear_model\n",
    "from sklearn.preprocessing import StandardScaler\n",
    "from sklearn.model_selection import train_test_split\n",
    "pd.options.mode.chained_assignment = None  # default='warn'\n",
    "plt.rcParams['text.usetex'] = True\n",
    "plt.style.use('dark_background')"
   ]
  },
  {
   "cell_type": "markdown",
   "metadata": {},
   "source": [
    "## Fitting Ballpark Data\n",
    "\n",
    "Predicting the outcome of batted balls based on launch speed, launch angles, and ballpark."
   ]
  },
  {
   "cell_type": "code",
   "execution_count": 2,
   "metadata": {},
   "outputs": [
    {
     "name": "stdout",
     "output_type": "stream",
     "text": [
      "This is a large query, it may take a moment to complete\n",
      "Skipping offseason dates\n",
      "Skipping offseason dates\n"
     ]
    },
    {
     "name": "stderr",
     "output_type": "stream",
     "text": [
      "100%|██████████| 246/246 [00:28<00:00,  8.68it/s]\n"
     ]
    },
    {
     "data": {
      "text/html": [
       "<div>\n",
       "<style scoped>\n",
       "    .dataframe tbody tr th:only-of-type {\n",
       "        vertical-align: middle;\n",
       "    }\n",
       "\n",
       "    .dataframe tbody tr th {\n",
       "        vertical-align: top;\n",
       "    }\n",
       "\n",
       "    .dataframe thead th {\n",
       "        text-align: right;\n",
       "    }\n",
       "</style>\n",
       "<table border=\"1\" class=\"dataframe\">\n",
       "  <thead>\n",
       "    <tr style=\"text-align: right;\">\n",
       "      <th></th>\n",
       "      <th>launch_angle</th>\n",
       "      <th>launch_speed</th>\n",
       "      <th>horizontal_angle</th>\n",
       "      <th>result</th>\n",
       "      <th>home_team</th>\n",
       "    </tr>\n",
       "  </thead>\n",
       "  <tbody>\n",
       "    <tr>\n",
       "      <th>188</th>\n",
       "      <td>53</td>\n",
       "      <td>84.1</td>\n",
       "      <td>51.000493</td>\n",
       "      <td>-1</td>\n",
       "      <td>HOU</td>\n",
       "    </tr>\n",
       "    <tr>\n",
       "      <th>202</th>\n",
       "      <td>60</td>\n",
       "      <td>99.4</td>\n",
       "      <td>-39.587092</td>\n",
       "      <td>-1</td>\n",
       "      <td>HOU</td>\n",
       "    </tr>\n",
       "    <tr>\n",
       "      <th>210</th>\n",
       "      <td>14</td>\n",
       "      <td>105.8</td>\n",
       "      <td>-1.561369</td>\n",
       "      <td>1</td>\n",
       "      <td>HOU</td>\n",
       "    </tr>\n",
       "    <tr>\n",
       "      <th>217</th>\n",
       "      <td>44</td>\n",
       "      <td>82.2</td>\n",
       "      <td>22.901836</td>\n",
       "      <td>-1</td>\n",
       "      <td>HOU</td>\n",
       "    </tr>\n",
       "    <tr>\n",
       "      <th>142</th>\n",
       "      <td>43</td>\n",
       "      <td>88.9</td>\n",
       "      <td>-17.387021</td>\n",
       "      <td>-1</td>\n",
       "      <td>HOU</td>\n",
       "    </tr>\n",
       "    <tr>\n",
       "      <th>...</th>\n",
       "      <td>...</td>\n",
       "      <td>...</td>\n",
       "      <td>...</td>\n",
       "      <td>...</td>\n",
       "      <td>...</td>\n",
       "    </tr>\n",
       "    <tr>\n",
       "      <th>182</th>\n",
       "      <td>38</td>\n",
       "      <td>89.9</td>\n",
       "      <td>0.255234</td>\n",
       "      <td>-1</td>\n",
       "      <td>COL</td>\n",
       "    </tr>\n",
       "    <tr>\n",
       "      <th>360</th>\n",
       "      <td>5</td>\n",
       "      <td>108.4</td>\n",
       "      <td>-24.132217</td>\n",
       "      <td>1</td>\n",
       "      <td>COL</td>\n",
       "    </tr>\n",
       "    <tr>\n",
       "      <th>73</th>\n",
       "      <td>-15</td>\n",
       "      <td>86.9</td>\n",
       "      <td>-31.565517</td>\n",
       "      <td>-1</td>\n",
       "      <td>COL</td>\n",
       "    </tr>\n",
       "    <tr>\n",
       "      <th>124</th>\n",
       "      <td>-22</td>\n",
       "      <td>104.5</td>\n",
       "      <td>33.229834</td>\n",
       "      <td>-1</td>\n",
       "      <td>COL</td>\n",
       "    </tr>\n",
       "    <tr>\n",
       "      <th>165</th>\n",
       "      <td>-3</td>\n",
       "      <td>73.1</td>\n",
       "      <td>-35.158755</td>\n",
       "      <td>-1</td>\n",
       "      <td>COL</td>\n",
       "    </tr>\n",
       "  </tbody>\n",
       "</table>\n",
       "<p>130564 rows × 5 columns</p>\n",
       "</div>"
      ],
      "text/plain": [
       "     launch_angle  launch_speed  horizontal_angle  result home_team\n",
       "188            53          84.1         51.000493      -1       HOU\n",
       "202            60          99.4        -39.587092      -1       HOU\n",
       "210            14         105.8         -1.561369       1       HOU\n",
       "217            44          82.2         22.901836      -1       HOU\n",
       "142            43          88.9        -17.387021      -1       HOU\n",
       "..            ...           ...               ...     ...       ...\n",
       "182            38          89.9          0.255234      -1       COL\n",
       "360             5         108.4        -24.132217       1       COL\n",
       "73            -15          86.9        -31.565517      -1       COL\n",
       "124           -22         104.5         33.229834      -1       COL\n",
       "165            -3          73.1        -35.158755      -1       COL\n",
       "\n",
       "[130564 rows x 5 columns]"
      ]
     },
     "execution_count": 2,
     "metadata": {},
     "output_type": "execute_result"
    }
   ],
   "source": [
    "stats_2022 = pybaseball.statcast('2022-01-01', '2022-12-31')\n",
    "subset_2022 = stats_2022[stats_2022['hc_x'].notnull() & stats_2022['hc_x'].notnull() & stats_2022['launch_angle'].notnull() & stats_2022['launch_speed'].notnull()]\n",
    "subset_2022[\"result\"] = subset_2022.apply(lambda row: utils.EVENT_VALUE.get(row['events'], -1), axis=1)\n",
    "subset_2022['horizontal_angle'] = subset_2022.apply(lambda row: utils.horizontal_angle(row['hc_x'], row['hc_y']), axis=1)\n",
    "subset_2022 = subset_2022[['launch_angle', 'launch_speed', 'horizontal_angle', 'result', 'home_team']]\n",
    "subset_2022"
   ]
  },
  {
   "cell_type": "code",
   "execution_count": 3,
   "metadata": {},
   "outputs": [],
   "source": [
    "# Get standard scalar for launch speed, vertical launch angle, and horizontal launch angle using all data\n",
    "launch_speed = subset_2022['launch_speed'].to_numpy()\n",
    "vertical_launch_angle = subset_2022['launch_angle'].to_numpy()\n",
    "horizontal_launch_angle = subset_2022['horizontal_angle'].to_numpy()\n",
    "\n",
    "'''\n",
    "Create feature vector. Each feature is modelled with a polynomial.\n",
    "The degree of each polynomial was chosen based on sample data shown in 'sample.ipynb'\n",
    "\n",
    "launch speed - degree 3\n",
    "vertical launch angle - degree 2\n",
    "horizontal launch angle - degree 4\n",
    "'''\n",
    "num_features = 9\n",
    "X = np.zeros((len(launch_speed), num_features))\n",
    "X[:,0] = launch_speed\n",
    "X[:,1] = launch_speed ** 2.0\n",
    "X[:,2] = launch_speed ** 3.0\n",
    "X[:,3] = vertical_launch_angle\n",
    "X[:,4] = vertical_launch_angle ** 2.0\n",
    "X[:,5] = horizontal_launch_angle\n",
    "X[:,6] = horizontal_launch_angle ** 2.0\n",
    "X[:,7] = horizontal_launch_angle ** 3.0\n",
    "X[:,8] = horizontal_launch_angle ** 4.0\n",
    "scaler = StandardScaler()\n",
    "scalar = scaler.fit(X)"
   ]
  },
  {
   "cell_type": "markdown",
   "metadata": {},
   "source": [
    "Fit linear logistic regression models on all batted balls separated by ballpark. The logistic regression model will predict the probability a batted ball is an out, single, double, triple, or home run. For each ballpark, the data is fit with L2 regularization coefficients ranging from 0.01 to 10000.0."
   ]
  },
  {
   "cell_type": "code",
   "execution_count": 4,
   "metadata": {},
   "outputs": [],
   "source": [
    "import warnings\n",
    "warnings.filterwarnings(\"ignore\") # ignore convergence warnings\n",
    "model_by_team = dict()\n",
    "alphas = [0.01, 0.1, 1.0, 10.0, 100.0, 1000.0, 10000.0]\n",
    "for team in utils.TEAMS:\n",
    "    team_stats = subset_2022[subset_2022['home_team'] == team]\n",
    "    launch_speed = team_stats['launch_speed'].to_numpy()\n",
    "    vertical_launch_angle = team_stats['launch_angle'].to_numpy()\n",
    "    horizontal_launch_angle = team_stats['horizontal_angle'].to_numpy()\n",
    "    team_X = np.zeros((len(launch_speed), num_features))\n",
    "    team_X[:,0] = launch_speed\n",
    "    team_X[:,1] = launch_speed ** 2.0\n",
    "    team_X[:,2] = launch_speed ** 3.0\n",
    "    team_X[:,3] = vertical_launch_angle\n",
    "    team_X[:,4] = vertical_launch_angle ** 2.0\n",
    "    team_X[:,5] = horizontal_launch_angle\n",
    "    team_X[:,6] = horizontal_launch_angle ** 2.0\n",
    "    team_X[:,7] = horizontal_launch_angle ** 3.0\n",
    "    team_X[:,8] = horizontal_launch_angle ** 4.0\n",
    "    scaled_team_X = scaler.transform(team_X)\n",
    "    team_Y = team_stats['result'].to_numpy()\n",
    "    X_train, X_test, y_train, y_test = train_test_split(scaled_team_X, team_Y, test_size=0.3)\n",
    "\n",
    "    model_by_team[team] = dict()\n",
    "    for alpha in alphas:\n",
    "        logistic_regression = linear_model.LogisticRegression(C=alpha, multi_class='multinomial', max_iter=1000)\n",
    "        logistic_regression.fit(X_train, y_train)\n",
    "        score = logistic_regression.score(X_test, y_test)\n",
    "        model_by_team[team][alpha] = dict()\n",
    "        model_by_team[team][alpha]['score'] = score\n",
    "        model_by_team[team][alpha]['clf'] = logistic_regression"
   ]
  },
  {
   "cell_type": "markdown",
   "metadata": {},
   "source": [
    "To determine the ideal regularization coefficient, I have plotted a histogram indicating the regularization coefficient that resulted in the best accuracy predicting the test data at each MLB ballpark 30. For 13 ballparks (plurality), a regularization parameter resulted in the best fit."
   ]
  },
  {
   "cell_type": "code",
   "execution_count": 5,
   "metadata": {},
   "outputs": [
    {
     "data": {
      "image/png": "[encoded data removed]",
      "text/plain": [
       "<Figure size 640x480 with 1 Axes>"
      ]
     },
     "metadata": {},
     "output_type": "display_data"
    }
   ],
   "source": [
    "frequencies = np.zeros(len(alphas))\n",
    "for team in model_by_team.keys():\n",
    "    max_score = float('-inf')\n",
    "    max_score_idx = -1\n",
    "    for i, alpha in enumerate(alphas):\n",
    "        if model_by_team[team][alpha]['score'] > max_score:\n",
    "            max_score = model_by_team[team][alpha]['score']\n",
    "            max_score_idx = i\n",
    "    frequencies[max_score_idx] += 1\n",
    "\n",
    "plt.bar(np.arange(len(alphas)), frequencies, tick_label=alphas)\n",
    "plt.xlabel('L2 regularization coefficient')\n",
    "plt.ylabel('number of ballparks')\n",
    "plt.show()"
   ]
  },
  {
   "cell_type": "markdown",
   "metadata": {},
   "source": [
    "Enter a launch speed, vertical launch angle, and horizontal launch angle below. Running the cell will compute the expected outcome of the batted ball in all 30 MLB ballparks using the models trained above. The expected value of the batted ball is computed using the following formula:\n",
    "\n",
    "$\\text{(expected value)} = P(\\text{single}) + 2 * P(\\text{double}) + 3 * P(\\text{triple}) + 4 * P(\\text{home run})$"
   ]
  },
  {
   "cell_type": "code",
   "execution_count": 6,
   "metadata": {},
   "outputs": [
    {
     "data": {
      "image/png": "[encoded data removed]",
      "text/plain": [
       "<Figure size 800x1000 with 1 Axes>"
      ]
     },
     "metadata": {},
     "output_type": "display_data"
    }
   ],
   "source": [
    "#######################################\n",
    "####### ENTER TEST DATA HERE ##########\n",
    "#######################################\n",
    "test_launch_speed = 100.0\n",
    "test_vertical_launch_angle = 20.0\n",
    "test_horizontal_launch_angle = 25.0\n",
    "#######################################\n",
    "\n",
    "test_point = np.array([[\n",
    "    test_launch_speed,\n",
    "    test_launch_speed ** 2.0,\n",
    "    test_launch_speed ** 3.0,\n",
    "    test_vertical_launch_angle,\n",
    "    test_vertical_launch_angle ** 2.0,\n",
    "    test_horizontal_launch_angle,\n",
    "    test_horizontal_launch_angle ** 2.0,\n",
    "    test_horizontal_launch_angle ** 3.0,\n",
    "    test_horizontal_launch_angle ** 4.0\n",
    "]])\n",
    "scaled_point = scalar.transform(test_point)\n",
    "\n",
    "prb = np.zeros((30, 5))\n",
    "teams = []\n",
    "for idx, team in enumerate(utils.TEAMS):\n",
    "    teams.append(team)\n",
    "    clf = model_by_team[team][100.0]['clf']\n",
    "    park_prb = clf.predict_proba(scaled_point)[0]\n",
    "    prb[idx] = park_prb\n",
    "zipped_results = zip(teams, prb)\n",
    "sorted_results = sorted(zipped_results, key=lambda x: x[1][1] + 2.0 * x[1][2] + 3.0 * x[1][3] + 4.0 * x[1][4])\n",
    "\n",
    "teams, park_prbs = list(zip(*sorted_results))\n",
    "prb = np.array(park_prbs)\n",
    "\n",
    "plt.figure(figsize=(8, 10))\n",
    "plt.barh(teams, prb[:,1], color=utils.EVENT_COLOR['single'], label='single')\n",
    "plt.barh(teams, prb[:,2]*2, left=prb[:,1], color=utils.EVENT_COLOR['double'], label='double')\n",
    "plt.barh(teams, prb[:,3]*3, left=prb[:,1]+prb[:,2]*2, color=utils.EVENT_COLOR['triple'], label='triple')\n",
    "plt.barh(teams, prb[:,4]*4, left=prb[:,1]+prb[:,2]*2+prb[:,3]*3, color=utils.EVENT_COLOR['home_run'], label='home run')\n",
    "plt.legend()\n",
    "plt.ylabel('MLB ballpark')\n",
    "plt.xlabel('expected value')\n",
    "plt.show()"
   ]
  }
 ],
 "metadata": {
  "kernelspec": {
   "display_name": "Python 3",
   "language": "python",
   "name": "python3"
  },
  "language_info": {
   "codemirror_mode": {
    "name": "ipython",
    "version": 3
   },
   "file_extension": ".py",
   "mimetype": "text/x-python",
   "name": "python",
   "nbconvert_exporter": "python",
   "pygments_lexer": "ipython3",
   "version": "3.10.0"
  }
 },
 "nbformat": 4,
 "nbformat_minor": 2
}
